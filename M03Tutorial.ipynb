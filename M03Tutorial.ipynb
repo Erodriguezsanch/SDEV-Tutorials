{
 "cells": [
  {
   "cell_type": "code",
   "execution_count": 1,
   "metadata": {},
   "outputs": [],
   "source": [
    "\"\"\"Sort an array of 0s, 1s and 2s\"\"\"\n",
    "\n",
    "class Solution:\n",
    "    def sort012(self, arr, n):\n",
    "        low = 0\n",
    "        mid = 0\n",
    "        high = n - 1\n",
    "\n",
    "        while mid <= high:\n",
    "            if mid == 0:\n",
    "                arr[mid], arr[low] = arr[low], arr[mid]\n",
    "                mid += 1\n",
    "                low += 1\n",
    "            elif mid == 1:\n",
    "                mid += 1\n",
    "            else:\n",
    "                arr[mid], arr[high] = arr[high], arr[mid]\n",
    "                high -= 1\n",
    "        return arr"
   ]
  },
  {
   "cell_type": "code",
   "execution_count": 2,
   "metadata": {},
   "outputs": [],
   "source": [
    "\"\"\"Binary Search\"\"\"\n",
    "class Solution:\n",
    "    def binarysearch(self, arr, n, k):\n",
    "        for i in range(n):\n",
    "            if arr[i] == k:\n",
    "                return i\n",
    "        return -1"
   ]
  }
 ],
 "metadata": {
  "kernelspec": {
   "display_name": "Python 3",
   "language": "python",
   "name": "python3"
  },
  "language_info": {
   "codemirror_mode": {
    "name": "ipython",
    "version": 3
   },
   "file_extension": ".py",
   "mimetype": "text/x-python",
   "name": "python",
   "nbconvert_exporter": "python",
   "pygments_lexer": "ipython3",
   "version": "3.12.2"
  }
 },
 "nbformat": 4,
 "nbformat_minor": 2
}
